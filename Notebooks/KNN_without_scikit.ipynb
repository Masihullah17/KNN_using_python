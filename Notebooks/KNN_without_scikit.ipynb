{
  "nbformat": 4,
  "nbformat_minor": 0,
  "metadata": {
    "colab": {
      "name": "KNN_without_scikit.ipynb",
      "version": "0.3.2",
      "provenance": [],
      "collapsed_sections": []
    },
    "kernelspec": {
      "name": "python3",
      "display_name": "Python 3"
    },
    "accelerator": "GPU"
  },
  "cells": [
    {
      "metadata": {
        "id": "t3IDm53XNyzr",
        "colab_type": "code",
        "colab": {}
      },
      "cell_type": "code",
      "source": [
        "import csv\n",
        "import random\n",
        "import math\n",
        "import operator"
      ],
      "execution_count": 0,
      "outputs": []
    },
    {
      "metadata": {
        "id": "P7qGK4GaOMnH",
        "colab_type": "code",
        "colab": {}
      },
      "cell_type": "code",
      "source": [
        "def loadingData(filename,split_ratio,trainingSet=[],testSet=[]):\n",
        "  with open(filename,'r') as file:\n",
        "    data = csv.reader(file)\n",
        "    dataset = list(data)\n",
        "    for x in range(len(dataset)-1):\n",
        "      for y in range(4):\n",
        "        dataset[x][y] = float(dataset[x][y])\n",
        "      if random.random() < split_ratio:\n",
        "        trainingSet.append(dataset[x])\n",
        "      else:\n",
        "        testSet.append(dataset[x])      "
      ],
      "execution_count": 0,
      "outputs": []
    },
    {
      "metadata": {
        "id": "Eh_RsHnVRG1V",
        "colab_type": "code",
        "colab": {}
      },
      "cell_type": "code",
      "source": [
        "trainingSet = []\n",
        "testSet = []\n",
        "loadingData('iris.data',0.66,trainingSet,testSet)"
      ],
      "execution_count": 0,
      "outputs": []
    },
    {
      "metadata": {
        "id": "Xc-VzOxQTqLI",
        "colab_type": "code",
        "colab": {
          "base_uri": "https://localhost:8080/",
          "height": 51
        },
        "outputId": "3b30776a-416d-4dce-a617-c205cc465a6c"
      },
      "cell_type": "code",
      "source": [
        "print('Train:' + repr(len(trainingSet)))\n",
        "print('Test:' + repr(len(testSet)))"
      ],
      "execution_count": 23,
      "outputs": [
        {
          "output_type": "stream",
          "text": [
            "Train:97\n",
            "Test:52\n"
          ],
          "name": "stdout"
        }
      ]
    },
    {
      "metadata": {
        "id": "IwuFigR-Uy4D",
        "colab_type": "code",
        "colab": {}
      },
      "cell_type": "code",
      "source": [
        "def euclideanDistance(x1,x2,length):\n",
        "  distance =0\n",
        "  for x in range(length):\n",
        "    distance = (x1[x]-x2[x])**2\n",
        "  return math.sqrt(distance)"
      ],
      "execution_count": 0,
      "outputs": []
    },
    {
      "metadata": {
        "id": "SWm0sO6fVtw5",
        "colab_type": "code",
        "colab": {
          "base_uri": "https://localhost:8080/",
          "height": 34
        },
        "outputId": "d567117e-d3a9-41ba-80f0-c0e81c2bc437"
      },
      "cell_type": "code",
      "source": [
        "#testing function\n",
        "data1 = [2,2,2,'a']\n",
        "data2 = [4,4,4,'b']\n",
        "distance = euclideanDistance(data1,data2,3)\n",
        "print('Distance:' + repr(distance))"
      ],
      "execution_count": 30,
      "outputs": [
        {
          "output_type": "stream",
          "text": [
            "Distance:2.0\n"
          ],
          "name": "stdout"
        }
      ]
    },
    {
      "metadata": {
        "id": "KytSY20qWERG",
        "colab_type": "code",
        "colab": {}
      },
      "cell_type": "code",
      "source": [
        "def getNeighbors(trainingSet,testInstance,k):\n",
        "  distances = []\n",
        "  length = len(testInstance)-1\n",
        "  for x in range(len(trainingSet)):\n",
        "    dist = euclideanDistance(testInstance,trainingSet[x],length)\n",
        "    distances.append((trainingSet[x],dist)) \n",
        "  distances.sort(key=operator.itemgetter(1))\n",
        "  neighbours = []\n",
        "  for x in range(k):\n",
        "    neighbours.append(distances[x][0])\n",
        "  return neighbours"
      ],
      "execution_count": 0,
      "outputs": []
    },
    {
      "metadata": {
        "id": "FpE2CdYqYzMB",
        "colab_type": "code",
        "colab": {
          "base_uri": "https://localhost:8080/",
          "height": 34
        },
        "outputId": "441cde15-67b0-4059-9e39-53e9ecd4fc8e"
      },
      "cell_type": "code",
      "source": [
        "#testing neighbours function\n",
        "trainSet = [[2, 2, 2, 'a'], [4, 4, 4, 'b']]\n",
        "testInstance = [5, 5, 5]\n",
        "k = 1\n",
        "neighbors = getNeighbors(trainSet, testInstance, 1)\n",
        "print(neighbors)"
      ],
      "execution_count": 39,
      "outputs": [
        {
          "output_type": "stream",
          "text": [
            "[[4, 4, 4, 'b']]\n"
          ],
          "name": "stdout"
        }
      ]
    },
    {
      "metadata": {
        "id": "uzVhDY7vY_5o",
        "colab_type": "code",
        "colab": {}
      },
      "cell_type": "code",
      "source": [
        "def responses(neighbors):\n",
        "  classVotes = {}\n",
        "  for x in range(len(neighbors)):\n",
        "    response = neighbors[x][-1]\n",
        "    if response in classVotes:\n",
        "      classVotes[response] += 1\n",
        "    else:\n",
        "      classVotes[response] = 1\n",
        "  sortedVotes = sorted(classVotes.items(), key=operator.itemgetter(1),reverse=True)\n",
        "  return sortedVotes[0][0]"
      ],
      "execution_count": 0,
      "outputs": []
    },
    {
      "metadata": {
        "id": "7D8eVHX3ZydW",
        "colab_type": "code",
        "colab": {
          "base_uri": "https://localhost:8080/",
          "height": 34
        },
        "outputId": "de293296-84fc-49e1-f03f-e3d4bfffa66f"
      },
      "cell_type": "code",
      "source": [
        "#testing response function\n",
        "neighbors = [[1,1,1,'a'], [2,2,2,'a'], [3,3,3,'b']]\n",
        "response = responses(neighbors)\n",
        "print(response)"
      ],
      "execution_count": 47,
      "outputs": [
        {
          "output_type": "stream",
          "text": [
            "a\n"
          ],
          "name": "stdout"
        }
      ]
    },
    {
      "metadata": {
        "id": "aMfBvi-Aa2vQ",
        "colab_type": "code",
        "colab": {}
      },
      "cell_type": "code",
      "source": [
        "def getAccuracy(testSet,predictions):\n",
        "  correct = 0\n",
        "  for x in range(len(testSet)):\n",
        "    if testSet[x][-1] == predictions[x]:\n",
        "      correct += 1\n",
        "  return (correct / float(len(testSet)) ) * 100.0"
      ],
      "execution_count": 0,
      "outputs": []
    },
    {
      "metadata": {
        "id": "NrPAm956cf1F",
        "colab_type": "code",
        "colab": {
          "base_uri": "https://localhost:8080/",
          "height": 34
        },
        "outputId": "c5250615-1e9b-49f7-9070-d5855b4e19e4"
      },
      "cell_type": "code",
      "source": [
        "#testing accuracy function\n",
        "testSet = [[1,1,1,'a'], [2,2,2,'a'], [3,3,3,'b']]\n",
        "predictions = ['a', 'a', 'a']\n",
        "accuracy = getAccuracy(testSet, predictions)\n",
        "print(accuracy)"
      ],
      "execution_count": 50,
      "outputs": [
        {
          "output_type": "stream",
          "text": [
            "66.66666666666666\n"
          ],
          "name": "stdout"
        }
      ]
    },
    {
      "metadata": {
        "id": "-A55RWMnckho",
        "colab_type": "code",
        "colab": {}
      },
      "cell_type": "code",
      "source": [
        "def main():\n",
        "  #preparing data\n",
        "  trainingSet = []\n",
        "  testSet = []\n",
        "  split_ratio = 0.67\n",
        "  loadingData('iris.data',split_ratio,trainingSet,testSet)\n",
        "  #generating predictions\n",
        "  predictions = []\n",
        "  k = 3\n",
        "  for x in range(len(testSet)):\n",
        "    neighbors = getNeighbors(trainingSet,testSet[x],k)\n",
        "    response = responses(neighbors)\n",
        "    predictions.append(response)\n",
        "    #print('Predicted: ' + repr(response) + 'Actual: ' + repr(testSet[x][-1]))\n",
        "  accuracy = getAccuracy(testSet,predictions)\n",
        "  print('Accuracy: ' + repr(accuracy) + '%')"
      ],
      "execution_count": 0,
      "outputs": []
    },
    {
      "metadata": {
        "id": "fskPBmfeeOVR",
        "colab_type": "code",
        "colab": {
          "base_uri": "https://localhost:8080/",
          "height": 34
        },
        "outputId": "06af451f-af9c-4159-d2eb-654e0443a578"
      },
      "cell_type": "code",
      "source": [
        "main()"
      ],
      "execution_count": 78,
      "outputs": [
        {
          "output_type": "stream",
          "text": [
            "Accuracy: 98.0392156862745%\n"
          ],
          "name": "stdout"
        }
      ]
    },
    {
      "metadata": {
        "id": "_iW_-57dePeY",
        "colab_type": "code",
        "colab": {}
      },
      "cell_type": "code",
      "source": [
        ""
      ],
      "execution_count": 0,
      "outputs": []
    }
  ]
}